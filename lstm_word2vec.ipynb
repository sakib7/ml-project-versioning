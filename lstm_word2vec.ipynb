{
  "nbformat": 4,
  "nbformat_minor": 0,
  "metadata": {
    "colab": {
      "provenance": [],
      "include_colab_link": true
    },
    "kernelspec": {
      "name": "python3",
      "display_name": "Python 3"
    },
    "language_info": {
      "name": "python"
    }
  },
  "cells": [
    {
      "cell_type": "markdown",
      "metadata": {
        "id": "view-in-github",
        "colab_type": "text"
      },
      "source": [
        "<a href=\"https://colab.research.google.com/github/sakib7/ml-project-versioning/blob/main/lstm_word2vec.ipynb\" target=\"_parent\"><img src=\"https://colab.research.google.com/assets/colab-badge.svg\" alt=\"Open In Colab\"/></a>"
      ]
    },
    {
      "cell_type": "code",
      "execution_count": 65,
      "metadata": {
        "id": "y4DrFufPWuwj"
      },
      "outputs": [],
      "source": [
        "# Utilities\n",
        "import re\n",
        "import pickle\n",
        "import numpy as np\n",
        "import pandas as pd\n",
        "\n",
        "# Plot libraries\n",
        "import seaborn as sns\n",
        "from wordcloud import WordCloud\n",
        "import matplotlib.pyplot as plt\n",
        "from sklearn.feature_extraction.text import CountVectorizer, TfidfVectorizer\n",
        "from sklearn.linear_model import LogisticRegression"
      ]
    },
    {
      "cell_type": "code",
      "source": [
        "url = \"https://raw.githubusercontent.com/sakib7/IT00CD79-3005-Machine-Learning/main/Sentiment140.tenPercent.sample.tweets.tsv\"\n",
        "dataset = pd.read_csv(url, delimiter=\"\\t\")\n",
        "dataset['sentiment'] = dataset['sentiment_label'].replace(4,1)\n",
        "dataset['text'] = dataset['tweet_text']\n",
        "dataset = dataset.drop(columns=['tweet_text', 'sentiment_label'])\n",
        "# print(dataset.head(10))\n",
        "dataset"
      ],
      "metadata": {
        "colab": {
          "base_uri": "https://localhost:8080/",
          "height": 423
        },
        "id": "47FdiKmhXOsQ",
        "outputId": "adb84494-a8d5-46e5-9cbd-588a1902c89f"
      },
      "execution_count": 66,
      "outputs": [
        {
          "output_type": "execute_result",
          "data": {
            "text/plain": [
              "        sentiment                                               text\n",
              "0               1  @elephantbird Hey dear, Happy Friday to You  A...\n",
              "1               1  Ughhh layin downnnn    Waiting for zeina to co...\n",
              "2               0  @greeniebach I reckon he'll play, even if he's...\n",
              "3               0              @vaLewee I know!  Saw it on the news!\n",
              "4               0  very sad that http://www.fabchannel.com/ has c...\n",
              "...           ...                                                ...\n",
              "159995          0  STILL @ panera...studying for &quot;mock&quot;...\n",
              "159996          0  Insomnia is out of control tonight--haven't sl...\n",
              "159997          1            @Covergirl08 I take pride in what I do \n",
              "159998          1                          heading to work on the 6 \n",
              "159999          1                                   @queith asi es! \n",
              "\n",
              "[160000 rows x 2 columns]"
            ],
            "text/html": [
              "\n",
              "  <div id=\"df-29902563-7ad9-49d9-b80d-30c50ba6eec7\" class=\"colab-df-container\">\n",
              "    <div>\n",
              "<style scoped>\n",
              "    .dataframe tbody tr th:only-of-type {\n",
              "        vertical-align: middle;\n",
              "    }\n",
              "\n",
              "    .dataframe tbody tr th {\n",
              "        vertical-align: top;\n",
              "    }\n",
              "\n",
              "    .dataframe thead th {\n",
              "        text-align: right;\n",
              "    }\n",
              "</style>\n",
              "<table border=\"1\" class=\"dataframe\">\n",
              "  <thead>\n",
              "    <tr style=\"text-align: right;\">\n",
              "      <th></th>\n",
              "      <th>sentiment</th>\n",
              "      <th>text</th>\n",
              "    </tr>\n",
              "  </thead>\n",
              "  <tbody>\n",
              "    <tr>\n",
              "      <th>0</th>\n",
              "      <td>1</td>\n",
              "      <td>@elephantbird Hey dear, Happy Friday to You  A...</td>\n",
              "    </tr>\n",
              "    <tr>\n",
              "      <th>1</th>\n",
              "      <td>1</td>\n",
              "      <td>Ughhh layin downnnn    Waiting for zeina to co...</td>\n",
              "    </tr>\n",
              "    <tr>\n",
              "      <th>2</th>\n",
              "      <td>0</td>\n",
              "      <td>@greeniebach I reckon he'll play, even if he's...</td>\n",
              "    </tr>\n",
              "    <tr>\n",
              "      <th>3</th>\n",
              "      <td>0</td>\n",
              "      <td>@vaLewee I know!  Saw it on the news!</td>\n",
              "    </tr>\n",
              "    <tr>\n",
              "      <th>4</th>\n",
              "      <td>0</td>\n",
              "      <td>very sad that http://www.fabchannel.com/ has c...</td>\n",
              "    </tr>\n",
              "    <tr>\n",
              "      <th>...</th>\n",
              "      <td>...</td>\n",
              "      <td>...</td>\n",
              "    </tr>\n",
              "    <tr>\n",
              "      <th>159995</th>\n",
              "      <td>0</td>\n",
              "      <td>STILL @ panera...studying for &amp;quot;mock&amp;quot;...</td>\n",
              "    </tr>\n",
              "    <tr>\n",
              "      <th>159996</th>\n",
              "      <td>0</td>\n",
              "      <td>Insomnia is out of control tonight--haven't sl...</td>\n",
              "    </tr>\n",
              "    <tr>\n",
              "      <th>159997</th>\n",
              "      <td>1</td>\n",
              "      <td>@Covergirl08 I take pride in what I do</td>\n",
              "    </tr>\n",
              "    <tr>\n",
              "      <th>159998</th>\n",
              "      <td>1</td>\n",
              "      <td>heading to work on the 6</td>\n",
              "    </tr>\n",
              "    <tr>\n",
              "      <th>159999</th>\n",
              "      <td>1</td>\n",
              "      <td>@queith asi es!</td>\n",
              "    </tr>\n",
              "  </tbody>\n",
              "</table>\n",
              "<p>160000 rows × 2 columns</p>\n",
              "</div>\n",
              "    <div class=\"colab-df-buttons\">\n",
              "\n",
              "  <div class=\"colab-df-container\">\n",
              "    <button class=\"colab-df-convert\" onclick=\"convertToInteractive('df-29902563-7ad9-49d9-b80d-30c50ba6eec7')\"\n",
              "            title=\"Convert this dataframe to an interactive table.\"\n",
              "            style=\"display:none;\">\n",
              "\n",
              "  <svg xmlns=\"http://www.w3.org/2000/svg\" height=\"24px\" viewBox=\"0 -960 960 960\">\n",
              "    <path d=\"M120-120v-720h720v720H120Zm60-500h600v-160H180v160Zm220 220h160v-160H400v160Zm0 220h160v-160H400v160ZM180-400h160v-160H180v160Zm440 0h160v-160H620v160ZM180-180h160v-160H180v160Zm440 0h160v-160H620v160Z\"/>\n",
              "  </svg>\n",
              "    </button>\n",
              "\n",
              "  <style>\n",
              "    .colab-df-container {\n",
              "      display:flex;\n",
              "      gap: 12px;\n",
              "    }\n",
              "\n",
              "    .colab-df-convert {\n",
              "      background-color: #E8F0FE;\n",
              "      border: none;\n",
              "      border-radius: 50%;\n",
              "      cursor: pointer;\n",
              "      display: none;\n",
              "      fill: #1967D2;\n",
              "      height: 32px;\n",
              "      padding: 0 0 0 0;\n",
              "      width: 32px;\n",
              "    }\n",
              "\n",
              "    .colab-df-convert:hover {\n",
              "      background-color: #E2EBFA;\n",
              "      box-shadow: 0px 1px 2px rgba(60, 64, 67, 0.3), 0px 1px 3px 1px rgba(60, 64, 67, 0.15);\n",
              "      fill: #174EA6;\n",
              "    }\n",
              "\n",
              "    .colab-df-buttons div {\n",
              "      margin-bottom: 4px;\n",
              "    }\n",
              "\n",
              "    [theme=dark] .colab-df-convert {\n",
              "      background-color: #3B4455;\n",
              "      fill: #D2E3FC;\n",
              "    }\n",
              "\n",
              "    [theme=dark] .colab-df-convert:hover {\n",
              "      background-color: #434B5C;\n",
              "      box-shadow: 0px 1px 3px 1px rgba(0, 0, 0, 0.15);\n",
              "      filter: drop-shadow(0px 1px 2px rgba(0, 0, 0, 0.3));\n",
              "      fill: #FFFFFF;\n",
              "    }\n",
              "  </style>\n",
              "\n",
              "    <script>\n",
              "      const buttonEl =\n",
              "        document.querySelector('#df-29902563-7ad9-49d9-b80d-30c50ba6eec7 button.colab-df-convert');\n",
              "      buttonEl.style.display =\n",
              "        google.colab.kernel.accessAllowed ? 'block' : 'none';\n",
              "\n",
              "      async function convertToInteractive(key) {\n",
              "        const element = document.querySelector('#df-29902563-7ad9-49d9-b80d-30c50ba6eec7');\n",
              "        const dataTable =\n",
              "          await google.colab.kernel.invokeFunction('convertToInteractive',\n",
              "                                                    [key], {});\n",
              "        if (!dataTable) return;\n",
              "\n",
              "        const docLinkHtml = 'Like what you see? Visit the ' +\n",
              "          '<a target=\"_blank\" href=https://colab.research.google.com/notebooks/data_table.ipynb>data table notebook</a>'\n",
              "          + ' to learn more about interactive tables.';\n",
              "        element.innerHTML = '';\n",
              "        dataTable['output_type'] = 'display_data';\n",
              "        await google.colab.output.renderOutput(dataTable, element);\n",
              "        const docLink = document.createElement('div');\n",
              "        docLink.innerHTML = docLinkHtml;\n",
              "        element.appendChild(docLink);\n",
              "      }\n",
              "    </script>\n",
              "  </div>\n",
              "\n",
              "\n",
              "<div id=\"df-47a7c247-bdf7-4e85-ad6c-5a9e154ec8ff\">\n",
              "  <button class=\"colab-df-quickchart\" onclick=\"quickchart('df-47a7c247-bdf7-4e85-ad6c-5a9e154ec8ff')\"\n",
              "            title=\"Suggest charts\"\n",
              "            style=\"display:none;\">\n",
              "\n",
              "<svg xmlns=\"http://www.w3.org/2000/svg\" height=\"24px\"viewBox=\"0 0 24 24\"\n",
              "     width=\"24px\">\n",
              "    <g>\n",
              "        <path d=\"M19 3H5c-1.1 0-2 .9-2 2v14c0 1.1.9 2 2 2h14c1.1 0 2-.9 2-2V5c0-1.1-.9-2-2-2zM9 17H7v-7h2v7zm4 0h-2V7h2v10zm4 0h-2v-4h2v4z\"/>\n",
              "    </g>\n",
              "</svg>\n",
              "  </button>\n",
              "\n",
              "<style>\n",
              "  .colab-df-quickchart {\n",
              "      --bg-color: #E8F0FE;\n",
              "      --fill-color: #1967D2;\n",
              "      --hover-bg-color: #E2EBFA;\n",
              "      --hover-fill-color: #174EA6;\n",
              "      --disabled-fill-color: #AAA;\n",
              "      --disabled-bg-color: #DDD;\n",
              "  }\n",
              "\n",
              "  [theme=dark] .colab-df-quickchart {\n",
              "      --bg-color: #3B4455;\n",
              "      --fill-color: #D2E3FC;\n",
              "      --hover-bg-color: #434B5C;\n",
              "      --hover-fill-color: #FFFFFF;\n",
              "      --disabled-bg-color: #3B4455;\n",
              "      --disabled-fill-color: #666;\n",
              "  }\n",
              "\n",
              "  .colab-df-quickchart {\n",
              "    background-color: var(--bg-color);\n",
              "    border: none;\n",
              "    border-radius: 50%;\n",
              "    cursor: pointer;\n",
              "    display: none;\n",
              "    fill: var(--fill-color);\n",
              "    height: 32px;\n",
              "    padding: 0;\n",
              "    width: 32px;\n",
              "  }\n",
              "\n",
              "  .colab-df-quickchart:hover {\n",
              "    background-color: var(--hover-bg-color);\n",
              "    box-shadow: 0 1px 2px rgba(60, 64, 67, 0.3), 0 1px 3px 1px rgba(60, 64, 67, 0.15);\n",
              "    fill: var(--button-hover-fill-color);\n",
              "  }\n",
              "\n",
              "  .colab-df-quickchart-complete:disabled,\n",
              "  .colab-df-quickchart-complete:disabled:hover {\n",
              "    background-color: var(--disabled-bg-color);\n",
              "    fill: var(--disabled-fill-color);\n",
              "    box-shadow: none;\n",
              "  }\n",
              "\n",
              "  .colab-df-spinner {\n",
              "    border: 2px solid var(--fill-color);\n",
              "    border-color: transparent;\n",
              "    border-bottom-color: var(--fill-color);\n",
              "    animation:\n",
              "      spin 1s steps(1) infinite;\n",
              "  }\n",
              "\n",
              "  @keyframes spin {\n",
              "    0% {\n",
              "      border-color: transparent;\n",
              "      border-bottom-color: var(--fill-color);\n",
              "      border-left-color: var(--fill-color);\n",
              "    }\n",
              "    20% {\n",
              "      border-color: transparent;\n",
              "      border-left-color: var(--fill-color);\n",
              "      border-top-color: var(--fill-color);\n",
              "    }\n",
              "    30% {\n",
              "      border-color: transparent;\n",
              "      border-left-color: var(--fill-color);\n",
              "      border-top-color: var(--fill-color);\n",
              "      border-right-color: var(--fill-color);\n",
              "    }\n",
              "    40% {\n",
              "      border-color: transparent;\n",
              "      border-right-color: var(--fill-color);\n",
              "      border-top-color: var(--fill-color);\n",
              "    }\n",
              "    60% {\n",
              "      border-color: transparent;\n",
              "      border-right-color: var(--fill-color);\n",
              "    }\n",
              "    80% {\n",
              "      border-color: transparent;\n",
              "      border-right-color: var(--fill-color);\n",
              "      border-bottom-color: var(--fill-color);\n",
              "    }\n",
              "    90% {\n",
              "      border-color: transparent;\n",
              "      border-bottom-color: var(--fill-color);\n",
              "    }\n",
              "  }\n",
              "</style>\n",
              "\n",
              "  <script>\n",
              "    async function quickchart(key) {\n",
              "      const quickchartButtonEl =\n",
              "        document.querySelector('#' + key + ' button');\n",
              "      quickchartButtonEl.disabled = true;  // To prevent multiple clicks.\n",
              "      quickchartButtonEl.classList.add('colab-df-spinner');\n",
              "      try {\n",
              "        const charts = await google.colab.kernel.invokeFunction(\n",
              "            'suggestCharts', [key], {});\n",
              "      } catch (error) {\n",
              "        console.error('Error during call to suggestCharts:', error);\n",
              "      }\n",
              "      quickchartButtonEl.classList.remove('colab-df-spinner');\n",
              "      quickchartButtonEl.classList.add('colab-df-quickchart-complete');\n",
              "    }\n",
              "    (() => {\n",
              "      let quickchartButtonEl =\n",
              "        document.querySelector('#df-47a7c247-bdf7-4e85-ad6c-5a9e154ec8ff button');\n",
              "      quickchartButtonEl.style.display =\n",
              "        google.colab.kernel.accessAllowed ? 'block' : 'none';\n",
              "    })();\n",
              "  </script>\n",
              "</div>\n",
              "    </div>\n",
              "  </div>\n"
            ],
            "application/vnd.google.colaboratory.intrinsic+json": {
              "type": "dataframe",
              "variable_name": "dataset"
            }
          },
          "metadata": {},
          "execution_count": 66
        }
      ]
    },
    {
      "cell_type": "code",
      "source": [
        "# Reading contractions.csv and storing it as a dict.\n",
        "contractions = pd.read_csv('https://raw.githubusercontent.com/sakib7/IT00CD79-3005-Machine-Learning/main/contractions.csv', index_col='Contraction')\n",
        "contractions.index = contractions.index.str.lower()\n",
        "contractions.Meaning = contractions.Meaning.str.lower()\n",
        "contractions_dict = contractions.to_dict()['Meaning']\n",
        "\n",
        "# Defining regex patterns.\n",
        "urlPattern        = r\"((http://)[^ ]*|(https://)[^ ]*|(www\\.)[^ ]*)\"\n",
        "userPattern       = '@[^\\s]+'\n",
        "hashtagPattern    = '#[^\\s]+'\n",
        "alphaPattern      = \"[^a-z0-9<>]\"\n",
        "sequencePattern   = r\"(.)\\1\\1+\"\n",
        "seqReplacePattern = r\"\\1\\1\"\n",
        "\n",
        "# Defining regex for emojis\n",
        "smileemoji        = r\"[8:=;]['`\\-]?[)d]+\"\n",
        "sademoji          = r\"[8:=;]['`\\-]?\\(+\"\n",
        "neutralemoji      = r\"[8:=;]['`\\-]?[\\/|l*]\"\n",
        "lolemoji          = r\"[8:=;]['`\\-]?p+\"\n",
        "\n",
        "def preprocess_apply(tweet):\n",
        "\n",
        "    tweet = tweet.lower()\n",
        "\n",
        "    # Replace all URls with '<url>'\n",
        "    tweet = re.sub(urlPattern,'',tweet)\n",
        "    # Replace @USERNAME to '<user>'.\n",
        "    tweet = re.sub(userPattern,'', tweet)\n",
        "\n",
        "    # Replace 3 or more consecutive letters by 2 letter.\n",
        "    tweet = re.sub(sequencePattern, seqReplacePattern, tweet)\n",
        "\n",
        "    # Replace all emojis.\n",
        "    tweet = re.sub(r'<3', '', tweet)\n",
        "    tweet = re.sub(smileemoji, '', tweet)\n",
        "    tweet = re.sub(sademoji, '', tweet)\n",
        "    tweet = re.sub(neutralemoji, '', tweet)\n",
        "    tweet = re.sub(lolemoji, '', tweet)\n",
        "\n",
        "    for contraction, replacement in contractions_dict.items():\n",
        "        tweet = tweet.replace(contraction, replacement)\n",
        "\n",
        "    # Remove non-alphanumeric and symbols\n",
        "    tweet = re.sub(alphaPattern, ' ', tweet)\n",
        "\n",
        "    # Adding space on either side of '/' to seperate words (After replacing URLS).\n",
        "    # tweet = re.sub(r'/', ' / ', tweet)\n",
        "    return tweet"
      ],
      "metadata": {
        "id": "l929ZqL4XRW6"
      },
      "execution_count": 67,
      "outputs": []
    },
    {
      "cell_type": "code",
      "source": [
        "%%time\n",
        "dataset['processed_text'] = dataset.text.apply(preprocess_apply)"
      ],
      "metadata": {
        "colab": {
          "base_uri": "https://localhost:8080/"
        },
        "id": "Z6xnsvYcXU1F",
        "outputId": "ce29b664-5c0a-4b90-e673-a726a6a86f66"
      },
      "execution_count": 68,
      "outputs": [
        {
          "output_type": "stream",
          "name": "stdout",
          "text": [
            "CPU times: user 9.11 s, sys: 43.5 ms, total: 9.15 s\n",
            "Wall time: 9.26 s\n"
          ]
        }
      ]
    },
    {
      "cell_type": "code",
      "source": [
        "count=0\n",
        "for row in dataset.itertuples():\n",
        "    print(\"Text:\", row[2])\n",
        "    print(\"Processed:\", row[3])\n",
        "    count+=1\n",
        "    if count>10:\n",
        "        break"
      ],
      "metadata": {
        "colab": {
          "base_uri": "https://localhost:8080/"
        },
        "id": "yv2SQpLQXWPU",
        "outputId": "c8d55d26-6c24-450f-b7c7-a2742b2469ba"
      },
      "execution_count": 69,
      "outputs": [
        {
          "output_type": "stream",
          "name": "stdout",
          "text": [
            "Text: @elephantbird Hey dear, Happy Friday to You  Already had your rice's bowl for lunch ?\n",
            "Processed:  hey dear  happy friday to you  already had your riceis bowl for lunch  \n",
            "Text: Ughhh layin downnnn    Waiting for zeina to cook breakfast\n",
            "Processed: ughh layin downn  waiting for zeina to cook breakfast\n",
            "Text: @greeniebach I reckon he'll play, even if he's not 100%...but i know nothing!! ;) It won't be the same without him. \n",
            "Processed:  i reckon he will play  even if he is not 100   but i know nothing    it will not be the same without him  \n",
            "Text: @vaLewee I know!  Saw it on the news!\n",
            "Processed:  i know   saw it on the news \n",
            "Text: very sad that http://www.fabchannel.com/ has closed down. One of the few web services that I've used for over 5 years \n",
            "Processed: very sad that  has closed down  one of the few web services that i have used for over 5 years \n",
            "Text: @Fearnecotton who sings 'I Remember'? i alwaysss hear it on Radio 1 but never catch the artist \n",
            "Processed:  who sings  i remember   i alwayss hear it on radio 1 but never catch the artist \n",
            "Text: With God on ur side anything is possible.... \n",
            "Processed: with god on ur side anything is possible   \n",
            "Text: @LoveSmrs why being stupid? \n",
            "Processed:  why being stupid  \n",
            "Text: Having delved back into the guts of Expression Engine, its a flexible CMS if you have to use it as a dev, not great for clients though \n",
            "Processed: having delved back into the guts of expression engine  its a flexible cms if you have to use it as a dev  not great for clients though \n",
            "Text: @emoskank awww   take him with you!\n",
            "Processed:  aww  take him with you \n",
            "Text: the video on VH1 is much better than the u tube one \n",
            "Processed: the video on vh1 is much better than the u tube one \n"
          ]
        }
      ]
    },
    {
      "cell_type": "code",
      "source": [
        "from sklearn.model_selection import train_test_split"
      ],
      "metadata": {
        "id": "ne9RV0UNXZif"
      },
      "execution_count": 70,
      "outputs": []
    },
    {
      "cell_type": "code",
      "source": [
        "X_data, y_data = np.array(dataset['processed_text']), np.array(dataset['sentiment'])"
      ],
      "metadata": {
        "id": "B5zZG_J3Xc9M"
      },
      "execution_count": 126,
      "outputs": []
    },
    {
      "cell_type": "code",
      "source": [
        "vectorizer = TfidfVectorizer(max_features=6000)\n",
        "X = vectorizer.fit_transform(X_data)\n",
        "\n",
        "X_train_lr, X_test_lr, y_train_lr, y_test_lr = train_test_split(X, y_data, test_size=0.2, random_state=42)"
      ],
      "metadata": {
        "id": "CoQTVGSGv82w"
      },
      "execution_count": 139,
      "outputs": []
    },
    {
      "cell_type": "code",
      "source": [
        "import seaborn as sns\n",
        "import matplotlib.pyplot as plt\n",
        "\n",
        "# Set up subplots\n",
        "fig, axes = plt.subplots(1, 2, figsize=(12, 6))\n",
        "\n",
        "# Plot for y_train\n",
        "sns.countplot(x=y_train_lr, ax=axes[0])\n",
        "axes[0].set_title('Count plot of y_train')\n",
        "axes[0].set_xlabel('Class')\n",
        "axes[0].set_ylabel('Count')\n",
        "\n",
        "# Plot for y_test\n",
        "sns.countplot(x=y_test_lr, ax=axes[1])\n",
        "axes[1].set_title('Count plot of y_test')\n",
        "axes[1].set_xlabel('Class')\n",
        "axes[1].set_ylabel('Count')\n",
        "\n",
        "# Adjust layout\n",
        "plt.tight_layout()\n",
        "plt.show()"
      ],
      "metadata": {
        "colab": {
          "base_uri": "https://localhost:8080/",
          "height": 607
        },
        "id": "58ZECkyZ0aLU",
        "outputId": "3edfabd7-d0c2-44d3-93a9-43edf27c2b00"
      },
      "execution_count": 141,
      "outputs": [
        {
          "output_type": "display_data",
          "data": {
            "text/plain": [
              "<Figure size 1200x600 with 2 Axes>"
            ],
            "image/png": "[encoded data removed]"
          },
          "metadata": {}
        }
      ]
    },
    {
      "cell_type": "code",
      "source": [
        "model = LogisticRegression()\n",
        "model.fit(X_train_lr, y_train_lr)\n",
        "y_pred_lr = model.predict(X_test_lr)\n",
        "print(classification_report(y_test_lr, y_pred_lr))"
      ],
      "metadata": {
        "colab": {
          "base_uri": "https://localhost:8080/"
        },
        "id": "7FExlxa-zq_4",
        "outputId": "984a9fa6-1850-432f-ed30-c44f53f0fe7e"
      },
      "execution_count": 142,
      "outputs": [
        {
          "output_type": "stream",
          "name": "stdout",
          "text": [
            "              precision    recall  f1-score   support\n",
            "\n",
            "           0       0.79      0.77      0.78     16002\n",
            "           1       0.78      0.80      0.79     15998\n",
            "\n",
            "    accuracy                           0.78     32000\n",
            "   macro avg       0.78      0.78      0.78     32000\n",
            "weighted avg       0.78      0.78      0.78     32000\n",
            "\n"
          ]
        }
      ]
    },
    {
      "cell_type": "code",
      "source": [
        "X_train_lstm, X_test_lstm, y_train_lstm, y_test_lstm = train_test_split(X_data, y_data,\n",
        "                                                    test_size = 0.1, random_state = 0)"
      ],
      "metadata": {
        "id": "-Kr8i9Lsx8BR"
      },
      "execution_count": 143,
      "outputs": []
    },
    {
      "cell_type": "code",
      "source": [
        "import seaborn as sns\n",
        "import matplotlib.pyplot as plt\n",
        "\n",
        "# Set up subplots\n",
        "fig, axes = plt.subplots(1, 2, figsize=(12, 6))\n",
        "\n",
        "# Plot for y_train\n",
        "sns.countplot(x=y_train_lstm, ax=axes[0])\n",
        "axes[0].set_title('Count plot of y_train')\n",
        "axes[0].set_xlabel('Class')\n",
        "axes[0].set_ylabel('Count')\n",
        "\n",
        "# Plot for y_test\n",
        "sns.countplot(x=y_test_lstm, ax=axes[1])\n",
        "axes[1].set_title('Count plot of y_test')\n",
        "axes[1].set_xlabel('Class')\n",
        "axes[1].set_ylabel('Count')\n",
        "\n",
        "# Adjust layout\n",
        "plt.tight_layout()\n",
        "plt.show()"
      ],
      "metadata": {
        "colab": {
          "base_uri": "https://localhost:8080/",
          "height": 607
        },
        "id": "3ILNDpUW2Iwp",
        "outputId": "b44648dd-7d6d-49a0-b4c6-77afb1071ec2"
      },
      "execution_count": 144,
      "outputs": [
        {
          "output_type": "display_data",
          "data": {
            "text/plain": [
              "<Figure size 1200x600 with 2 Axes>"
            ],
            "image/png": "[encoded data removed]"
          },
          "metadata": {}
        }
      ]
    },
    {
      "cell_type": "code",
      "source": [
        "from gensim.models import Word2Vec\n",
        "\n",
        "Embedding_dimensions = 100\n",
        "\n",
        "# Creating Word2Vec training dataset.\n",
        "Word2vec_train_data = list(map(lambda x: x.split(), X_train_lstm))"
      ],
      "metadata": {
        "id": "NCbdBEahXfwA"
      },
      "execution_count": 145,
      "outputs": []
    },
    {
      "cell_type": "code",
      "source": [
        "%%time\n",
        "\n",
        "# Defining the model and training it.\n",
        "word2vec_model = Word2Vec(Word2vec_train_data,\n",
        "                 vector_size=Embedding_dimensions,\n",
        "                 workers=8,\n",
        "                 min_count=5)\n",
        "\n",
        "print(\"Vocabulary Length:\", len(word2vec_model.wv.key_to_index))"
      ],
      "metadata": {
        "colab": {
          "base_uri": "https://localhost:8080/"
        },
        "id": "aPqO7y3BXigb",
        "outputId": "4f9d2a2d-dc05-4fdf-93b6-95531808eca2"
      },
      "execution_count": 146,
      "outputs": [
        {
          "output_type": "stream",
          "name": "stdout",
          "text": [
            "Vocabulary Length: 13275\n",
            "CPU times: user 20 s, sys: 157 ms, total: 20.1 s\n",
            "Wall time: 12.1 s\n"
          ]
        }
      ]
    },
    {
      "cell_type": "code",
      "source": [
        "# Defining the model input length.\n",
        "input_length = 60\n",
        "\n",
        "from keras.preprocessing.text import Tokenizer\n",
        "from keras.preprocessing.sequence import pad_sequences"
      ],
      "metadata": {
        "id": "_jkA9HdnXkXz"
      },
      "execution_count": 147,
      "outputs": []
    },
    {
      "cell_type": "code",
      "source": [
        "vocab_length = 60000\n",
        "\n",
        "tokenizer = Tokenizer(filters=\"\", lower=False, oov_token=\"<oov>\")\n",
        "tokenizer.fit_on_texts(X_data)\n",
        "tokenizer.num_words = vocab_length\n",
        "print(\"Tokenizer vocab length:\", vocab_length)\n",
        "tokenizer.word_index['love']"
      ],
      "metadata": {
        "colab": {
          "base_uri": "https://localhost:8080/"
        },
        "id": "AKDyNSokXneS",
        "outputId": "fbe0be71-7675-4f76-cbd6-e7a1a0d617e6"
      },
      "execution_count": 148,
      "outputs": [
        {
          "output_type": "stream",
          "name": "stdout",
          "text": [
            "Tokenizer vocab length: 60000\n"
          ]
        },
        {
          "output_type": "execute_result",
          "data": {
            "text/plain": [
              "48"
            ]
          },
          "metadata": {},
          "execution_count": 148
        }
      ]
    },
    {
      "cell_type": "code",
      "source": [
        "X_train_sequences = tokenizer.texts_to_sequences(X_train_lstm)\n",
        "X_test_sequences = tokenizer.texts_to_sequences(X_test_lstm)\n",
        "\n",
        "print(X_train_lstm[10:15])\n",
        "print(X_train_sequences[10:15])"
      ],
      "metadata": {
        "colab": {
          "base_uri": "https://localhost:8080/"
        },
        "id": "z_v_FYSJYFvM",
        "outputId": "6f9da252-2e88-40f7-c69f-bb1daab6c220"
      },
      "execution_count": 151,
      "outputs": [
        {
          "output_type": "stream",
          "name": "stdout",
          "text": [
            "[' heard auzzie was cnceled   news dsnt travel fast in canada lol  that sux but u ll be able 2 get    '\n",
            " 'i must   stop   clock   watching   '\n",
            " 'i am soo tired  my whole body hurts '\n",
            " ' i won a 2 month membership to curves so i am going to give that a try  '\n",
            " 'customers love yelling at me ']\n",
            "[[519, 16858, 28, 21013, 451, 11396, 1507, 641, 13, 1879, 50, 20, 2224, 21, 55, 975, 25, 468, 72, 37], [2, 308, 340, 1725, 135], [2, 15, 146, 167, 7, 414, 793, 356], [2, 633, 5, 72, 531, 7385, 3, 10961, 19, 2, 15, 34, 3, 303, 20, 5, 273], [3262, 48, 4327, 27, 18]]\n"
          ]
        }
      ]
    },
    {
      "cell_type": "code",
      "source": [
        "X_train_lstm = pad_sequences(X_train_sequences, maxlen=input_length)\n",
        "X_test_lstm  = pad_sequences(X_test_sequences , maxlen=input_length)\n",
        "\n",
        "print(\"X_train.shape:\", X_train_lstm.shape)\n",
        "print(\"X_test.shape :\", X_test_lstm.shape)\n",
        "X_train_lstm[10], X_test_lstm[10]"
      ],
      "metadata": {
        "colab": {
          "base_uri": "https://localhost:8080/"
        },
        "id": "B8CtdIYkYJku",
        "outputId": "f2883002-02b4-42bb-a48f-06ae2f167f6a"
      },
      "execution_count": 152,
      "outputs": [
        {
          "output_type": "stream",
          "name": "stdout",
          "text": [
            "X_train.shape: (144000, 60)\n",
            "X_test.shape : (16000, 60)\n"
          ]
        },
        {
          "output_type": "execute_result",
          "data": {
            "text/plain": [
              "(array([    0,     0,     0,     0,     0,     0,     0,     0,     0,\n",
              "            0,     0,     0,     0,     0,     0,     0,     0,     0,\n",
              "            0,     0,     0,     0,     0,     0,     0,     0,     0,\n",
              "            0,     0,     0,     0,     0,     0,     0,     0,     0,\n",
              "            0,     0,     0,     0,   519, 16858,    28, 21013,   451,\n",
              "        11396,  1507,   641,    13,  1879,    50,    20,  2224,    21,\n",
              "           55,   975,    25,   468,    72,    37], dtype=int32),\n",
              " array([    0,     0,     0,     0,     0,     0,     0,     0,     0,\n",
              "            0,     0,     0,     0,     0,     0,     0,     0,     0,\n",
              "            0,     0,     0,     0,     0,     0,     0,     0,     0,\n",
              "            0,     0,     0,     0,     0,     0,     0,     0,     0,\n",
              "            0,     0,     0,     0,     0,     0,     0,     0,     0,\n",
              "            0,     0,     0,     0,     0,     0,     0,     0,     0,\n",
              "            0,     0,     0,    40,  2958, 38910], dtype=int32))"
            ]
          },
          "metadata": {},
          "execution_count": 152
        }
      ]
    },
    {
      "cell_type": "code",
      "source": [
        "embedding_matrix = np.zeros((vocab_length, Embedding_dimensions))\n",
        "\n",
        "for word, token in tokenizer.word_index.items():\n",
        "    if word2vec_model.wv.__contains__(word):\n",
        "        embedding_matrix[token] = word2vec_model.wv.__getitem__(word)\n",
        "\n",
        "print(\"Embedding Matrix Shape:\", embedding_matrix.shape)\n",
        "embedding_matrix[50]"
      ],
      "metadata": {
        "colab": {
          "base_uri": "https://localhost:8080/"
        },
        "id": "xkMQk6zqYMKc",
        "outputId": "c5fccdc6-6e50-4f81-b497-2f47e9d0ba2e"
      },
      "execution_count": 153,
      "outputs": [
        {
          "output_type": "stream",
          "name": "stdout",
          "text": [
            "Embedding Matrix Shape: (60000, 100)\n"
          ]
        },
        {
          "output_type": "execute_result",
          "data": {
            "text/plain": [
              "array([ 0.13098112, -0.19444846,  0.65383863,  0.30257678,  0.07318929,\n",
              "       -0.93554109,  0.20451692,  0.64517683, -0.3744565 , -1.09784997,\n",
              "        0.16099381,  0.01559693,  0.24127211,  1.48724723,  0.60982072,\n",
              "        0.38747928, -0.4659439 , -0.30891955,  0.18736558, -0.16805911,\n",
              "        1.37163687,  0.30478698, -0.00493511, -0.53906459,  0.21609993,\n",
              "       -0.46957737, -0.74015045, -0.53508806, -0.69554812, -0.51893723,\n",
              "       -0.8007791 ,  0.38012239,  0.67093879, -0.28792936,  0.36760163,\n",
              "       -0.70123959,  0.66583955, -0.01399574,  0.39892253, -0.10519548,\n",
              "        0.31588122,  0.94633967,  0.13290603,  0.23830327, -0.53174877,\n",
              "        1.07923424, -0.89517355,  1.27176976,  0.66740328,  0.77188468,\n",
              "       -1.1274339 ,  1.06905687, -0.20197499,  0.30332726,  0.0394416 ,\n",
              "       -0.13331652, -0.22761996,  0.45654553, -0.91199732, -0.17252837,\n",
              "       -0.42560005,  0.45748162, -1.28595269,  0.03746971,  1.0003705 ,\n",
              "        0.55051482, -0.8403762 ,  1.27372241, -0.50202143, -0.66067922,\n",
              "        0.22475299,  0.47133997,  1.11392272, -0.34319595,  0.36778674,\n",
              "       -0.07701356, -0.101651  , -0.38760585, -0.07131159,  0.47657412,\n",
              "        0.04712615,  0.30312577, -0.36739385,  0.22298206, -0.65096605,\n",
              "        0.69510269, -0.42614067, -0.1868972 , -0.40191725, -0.51137388,\n",
              "        0.97519124,  0.33463594,  0.25908884,  1.5480535 ,  0.26827481,\n",
              "        0.15534353, -0.63245803, -0.53149891, -0.2895478 ,  0.00392195])"
            ]
          },
          "metadata": {},
          "execution_count": 153
        }
      ]
    },
    {
      "cell_type": "code",
      "source": [
        "from keras import Sequential\n",
        "from keras.layers import Bidirectional, GlobalMaxPool1D, Dense, LSTM, Conv1D, Embedding"
      ],
      "metadata": {
        "id": "XgUm6fnSYPUs"
      },
      "execution_count": 154,
      "outputs": []
    },
    {
      "cell_type": "code",
      "source": [
        "def getModel():\n",
        "    embedding_layer = Embedding(input_dim = vocab_length,\n",
        "                                output_dim = Embedding_dimensions,\n",
        "                                weights=[embedding_matrix],\n",
        "                                input_length=input_length,\n",
        "                                trainable=False)\n",
        "\n",
        "    model = Sequential([\n",
        "        embedding_layer,\n",
        "        LSTM(64, dropout=0.3, return_sequences=True),\n",
        "        # Bidirectional(LSTM(64, dropout=0.3, return_sequences=True)),\n",
        "        # Conv1D(64, 5, activation='relu'),\n",
        "        GlobalMaxPool1D(),\n",
        "        # Dense(16, activation='relu'),\n",
        "        Dense(1, activation='sigmoid'),\n",
        "    ],\n",
        "    name=\"Sentiment_Model\")\n",
        "    return model\n"
      ],
      "metadata": {
        "id": "ZeiwRy-JYQ97"
      },
      "execution_count": 155,
      "outputs": []
    },
    {
      "cell_type": "code",
      "source": [
        "training_model = getModel()\n",
        "training_model.summary()"
      ],
      "metadata": {
        "colab": {
          "base_uri": "https://localhost:8080/"
        },
        "id": "MT4gEcgLYSzg",
        "outputId": "0cbcff61-8271-414e-9d5f-2bdb2da5930c"
      },
      "execution_count": 156,
      "outputs": [
        {
          "output_type": "stream",
          "name": "stdout",
          "text": [
            "Model: \"Sentiment_Model\"\n",
            "_________________________________________________________________\n",
            " Layer (type)                Output Shape              Param #   \n",
            "=================================================================\n",
            " embedding_4 (Embedding)     (None, 60, 100)           6000000   \n",
            "                                                                 \n",
            " lstm_4 (LSTM)               (None, 60, 64)            42240     \n",
            "                                                                 \n",
            " global_max_pooling1d_4 (Gl  (None, 64)                0         \n",
            " obalMaxPooling1D)                                               \n",
            "                                                                 \n",
            " dense_4 (Dense)             (None, 1)                 65        \n",
            "                                                                 \n",
            "=================================================================\n",
            "Total params: 6042305 (23.05 MB)\n",
            "Trainable params: 42305 (165.25 KB)\n",
            "Non-trainable params: 6000000 (22.89 MB)\n",
            "_________________________________________________________________\n"
          ]
        }
      ]
    },
    {
      "cell_type": "code",
      "source": [
        "from keras.callbacks import ReduceLROnPlateau, EarlyStopping\n",
        "\n",
        "callbacks = [ReduceLROnPlateau(monitor='val_loss', patience=5, cooldown=0),\n",
        "             EarlyStopping(monitor='val_accuracy', min_delta=1e-4, patience=5)]"
      ],
      "metadata": {
        "id": "CBKs7pvSYUlP"
      },
      "execution_count": 157,
      "outputs": []
    },
    {
      "cell_type": "code",
      "source": [
        "training_model.compile(loss='binary_crossentropy', optimizer='adam', metrics=['accuracy'])"
      ],
      "metadata": {
        "id": "MIjodz8FYWIN"
      },
      "execution_count": 158,
      "outputs": []
    },
    {
      "cell_type": "code",
      "source": [
        "%%time\n",
        "\n",
        "history = training_model.fit(\n",
        "    X_train_lstm, y_train_lstm,\n",
        "    batch_size=512,\n",
        "    epochs=7,\n",
        "    validation_split=0.1,\n",
        "    callbacks=callbacks,\n",
        "    verbose=1,\n",
        ")\n",
        "\n",
        "acc,  val_acc  = history.history['accuracy'], history.history['val_accuracy']\n",
        "loss, val_loss = history.history['loss'], history.history['val_loss']\n",
        "epochs = range(len(acc))\n",
        "\n",
        "plt.plot(epochs, acc, 'b', label='Training acc')\n",
        "plt.plot(epochs, val_acc, 'r', label='Validation acc')\n",
        "plt.title('Training and validation accuracy')\n",
        "plt.legend()\n",
        "\n",
        "plt.figure()\n",
        "\n",
        "plt.plot(epochs, loss, 'b', label='Training loss')\n",
        "plt.plot(epochs, val_loss, 'r', label='Validation loss')\n",
        "plt.title('Training and validation loss')\n",
        "plt.legend()\n",
        "\n",
        "plt.show()\n",
        "\n"
      ],
      "metadata": {
        "colab": {
          "base_uri": "https://localhost:8080/",
          "height": 1000
        },
        "id": "aruNTmLPYeo3",
        "outputId": "aa5c791f-7cbc-4c22-a775-eb82d45412b5"
      },
      "execution_count": 160,
      "outputs": [
        {
          "output_type": "stream",
          "name": "stdout",
          "text": [
            "Epoch 1/7\n",
            "254/254 [==============================] - 80s 314ms/step - loss: 0.5552 - accuracy: 0.7135 - val_loss: 0.5035 - val_accuracy: 0.7538 - lr: 0.0010\n",
            "Epoch 2/7\n",
            "254/254 [==============================] - 67s 264ms/step - loss: 0.5097 - accuracy: 0.7488 - val_loss: 0.4853 - val_accuracy: 0.7624 - lr: 0.0010\n",
            "Epoch 3/7\n",
            "254/254 [==============================] - 65s 255ms/step - loss: 0.4957 - accuracy: 0.7590 - val_loss: 0.4798 - val_accuracy: 0.7647 - lr: 0.0010\n",
            "Epoch 4/7\n",
            "254/254 [==============================] - 64s 250ms/step - loss: 0.4855 - accuracy: 0.7639 - val_loss: 0.4702 - val_accuracy: 0.7742 - lr: 0.0010\n",
            "Epoch 5/7\n",
            "254/254 [==============================] - 63s 249ms/step - loss: 0.4782 - accuracy: 0.7692 - val_loss: 0.4648 - val_accuracy: 0.7757 - lr: 0.0010\n",
            "Epoch 6/7\n",
            "254/254 [==============================] - 66s 260ms/step - loss: 0.4711 - accuracy: 0.7724 - val_loss: 0.4606 - val_accuracy: 0.7793 - lr: 0.0010\n",
            "Epoch 7/7\n",
            "254/254 [==============================] - 65s 257ms/step - loss: 0.4671 - accuracy: 0.7752 - val_loss: 0.4560 - val_accuracy: 0.7831 - lr: 0.0010\n"
          ]
        },
        {
          "output_type": "display_data",
          "data": {
            "text/plain": [
              "<Figure size 640x480 with 1 Axes>"
            ],
            "image/png": "[encoded data removed]"
          },
          "metadata": {}
        },
        {
          "output_type": "display_data",
          "data": {
            "text/plain": [
              "<Figure size 640x480 with 1 Axes>"
            ],
            "image/png": "[encoded data removed]"
          },
          "metadata": {}
        },
        {
          "output_type": "stream",
          "name": "stdout",
          "text": [
            "500/500 [==============================] - 6s 10ms/step\n",
            "              precision    recall  f1-score   support\n",
            "\n",
            "           0       0.77      0.81      0.79      8021\n",
            "           1       0.80      0.76      0.78      7979\n",
            "\n",
            "    accuracy                           0.79     16000\n",
            "   macro avg       0.79      0.79      0.78     16000\n",
            "weighted avg       0.79      0.79      0.78     16000\n",
            "\n",
            "CPU times: user 11min 52s, sys: 22.8 s, total: 12min 15s\n",
            "Wall time: 8min 1s\n"
          ]
        }
      ]
    },
    {
      "cell_type": "code",
      "source": [
        "from sklearn.metrics import confusion_matrix, classification_report, ConfusionMatrixDisplay\n",
        "\n",
        "y_pred_lstm = training_model.predict(X_test_lstm)\n",
        "\n",
        "# Converting prediction to reflect the sentiment predicted.\n",
        "y_pred_lstm = np.where(y_pred_lstm>=0.5, 1, 0)\n",
        "\n",
        "print(classification_report(y_test_lstm, y_pred_lstm))"
      ],
      "metadata": {
        "colab": {
          "base_uri": "https://localhost:8080/"
        },
        "id": "nHTWCbAIDBB_",
        "outputId": "2a6d4c4b-a5a0-4cba-c515-66d73edbe7ca"
      },
      "execution_count": 165,
      "outputs": [
        {
          "output_type": "stream",
          "name": "stdout",
          "text": [
            "500/500 [==============================] - 9s 18ms/step\n",
            "              precision    recall  f1-score   support\n",
            "\n",
            "           0       0.77      0.81      0.79      8021\n",
            "           1       0.80      0.76      0.78      7979\n",
            "\n",
            "    accuracy                           0.79     16000\n",
            "   macro avg       0.79      0.79      0.78     16000\n",
            "weighted avg       0.79      0.79      0.78     16000\n",
            "\n"
          ]
        }
      ]
    },
    {
      "cell_type": "code",
      "source": [
        "print(confusion_matrix(y_test_lr, y_pred_lr))\n",
        "print(confusion_matrix(y_test_lstm, y_pred_lstm))\n",
        "cm_gb = ConfusionMatrixDisplay(confusion_matrix(y_test_lr, y_pred_lr)).plot()\n",
        "cm_gb.ax_.set_title('Logistic Regresion')\n",
        "plt.grid(False)\n",
        "cm_knn = ConfusionMatrixDisplay(confusion_matrix(y_test_lstm, y_pred_lstm)).plot()\n",
        "cm_knn.ax_.set_title('LSTM')\n",
        "# plt.grid(False)"
      ],
      "metadata": {
        "colab": {
          "base_uri": "https://localhost:8080/",
          "height": 1000
        },
        "id": "XUfXFRxz8Hdj",
        "outputId": "d2df4403-663c-486c-c62a-2de54ff1ef41"
      },
      "execution_count": 166,
      "outputs": [
        {
          "output_type": "stream",
          "name": "stdout",
          "text": [
            "[[12325  3677]\n",
            " [ 3253 12745]]\n",
            "[[6484 1537]\n",
            " [1902 6077]]\n"
          ]
        },
        {
          "output_type": "execute_result",
          "data": {
            "text/plain": [
              "Text(0.5, 1.0, 'LSTM')"
            ]
          },
          "metadata": {},
          "execution_count": 166
        },
        {
          "output_type": "display_data",
          "data": {
            "text/plain": [
              "<Figure size 640x480 with 2 Axes>"
            ],
            "image/png": "[encoded data removed]"
          },
          "metadata": {}
        },
        {
          "output_type": "display_data",
          "data": {
            "text/plain": [
              "<Figure size 640x480 with 2 Axes>"
            ],
            "image/png": "[encoded data removed]"
          },
          "metadata": {}
        }
      ]
    }
  ]
}